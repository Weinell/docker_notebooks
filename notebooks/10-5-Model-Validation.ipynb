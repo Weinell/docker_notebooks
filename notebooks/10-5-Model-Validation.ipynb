{
 "cells": [
  {
   "cell_type": "markdown",
   "metadata": {},
   "source": [
    "# Model validation and Classification"
   ]
  },
  {
   "cell_type": "markdown",
   "metadata": {},
   "source": [
    "## The different machine learning types\n",
    "\n",
    "![](images/machine_learning_types_tree.png)\n",
    "\n",
    "### No matter what type of machine learning we need to create a good model"
   ]
  },
  {
   "cell_type": "markdown",
   "metadata": {},
   "source": [
    "# Data models\n",
    "### How to make good models\n",
    "- Find representative data. Data that is a subset of reality but as far as possible represents all aspects of reality properly distributed.\n",
    "- Split data into a **training** part 2/3 to 4/5 of the data and a **test** part of the data\n",
    "- Train the model with the training data over multiple iterations\n",
    "- Test the model with the test data, to see how well the model performs on unknown data."
   ]
  },
  {
   "cell_type": "markdown",
   "metadata": {
    "slideshow": {
     "slide_type": "subslide"
    }
   },
   "source": [
    "## Your model versus the population\n",
    "\n",
    "A sample is a **subset** of a population.\n",
    "\n",
    "You will likely **never** have data that covers the entire population."
   ]
  },
  {
   "cell_type": "markdown",
   "metadata": {
    "slideshow": {
     "slide_type": "fragment"
    }
   },
   "source": [
    "That means that you will likely **never** be able to represent the entire population!\n",
    "\n",
    "Your model will lie!"
   ]
  },
  {
   "cell_type": "markdown",
   "metadata": {
    "slideshow": {
     "slide_type": "subslide"
    }
   },
   "source": [
    "## Populations\n",
    "\n",
    "![](images/pop1.png)"
   ]
  },
  {
   "cell_type": "markdown",
   "metadata": {
    "slideshow": {
     "slide_type": "subslide"
    }
   },
   "source": [
    "## The problem of overfitting\n",
    "Occam's razor implies that any given complex function is a priori less probable than any given simple function. If the new, more complicated function is selected instead of the simple function, and if there was not a large enough gain in training-data fit to offset the complexity increase, then the new complex function \"overfits\" the data, and the complex overfitted function will likely perform worse than the simpler function on validation data outside the training dataset, even though the complex function performed as well, or perhaps even better, on the training dataset\n",
    "\n",
    "![](images/overfitting.png)\n",
    "\n",
    "#### The smaller the dataset the more risk of overfitting\n",
    "For neural networks, using a small network is one way to mitigate overfitting.\n"
   ]
  },
  {
   "cell_type": "code",
   "execution_count": null,
   "metadata": {},
   "outputs": [],
   "source": []
  },
  {
   "cell_type": "markdown",
   "metadata": {
    "slideshow": {
     "slide_type": "subslide"
    }
   },
   "source": [
    "## Carowners and voters\n",
    "\n",
    "In 1963 *millions* of mock ballots was mailed to carowners across the USA, to learn who would win the presidential election.\n",
    "\n",
    "The Republicans was a *clear* winner in the mock ballots, but the Democrats won the election.\n",
    "\n",
    "What went wrong?"
   ]
  },
  {
   "cell_type": "markdown",
   "metadata": {
    "slideshow": {
     "slide_type": "subslide"
    }
   },
   "source": [
    "## The problem of generalisation\n",
    "\n",
    "If X % of sample has Y it does **not** mean that X % of population has Y!\n",
    "\n",
    "**Always** ask yourself: is your data representative?"
   ]
  },
  {
   "cell_type": "markdown",
   "metadata": {
    "slideshow": {
     "slide_type": "subslide"
    }
   },
   "source": [
    "## Training and testing data\n",
    "\n",
    "We now have a split between \n",
    "* **Training data**: the data that the model sees\n",
    "* **Testing data**: the data that the model is tested against"
   ]
  },
  {
   "cell_type": "markdown",
   "metadata": {
    "slideshow": {
     "slide_type": "fragment"
    }
   },
   "source": [
    "Note: the model should **never** train on the testing data"
   ]
  },
  {
   "cell_type": "markdown",
   "metadata": {
    "slideshow": {
     "slide_type": "subslide"
    }
   },
   "source": [
    "## Sklearn `train_test_split`\n",
    "\n",
    "Splitting the data into testing and training makes it more likely that your model generalises.\n",
    "\n",
    "But it **does not guarantee it**!"
   ]
  },
  {
   "cell_type": "code",
   "execution_count": 1,
   "metadata": {
    "slideshow": {
     "slide_type": "subslide"
    }
   },
   "outputs": [
    {
     "name": "stdout",
     "output_type": "stream",
     "text": [
      "%pylab is deprecated, use %matplotlib inline and import the required libraries.\n",
      "Populating the interactive namespace from numpy and matplotlib\n"
     ]
    }
   ],
   "source": [
    "%pylab inline"
   ]
  },
  {
   "cell_type": "code",
   "execution_count": 2,
   "metadata": {
    "slideshow": {
     "slide_type": "subslide"
    }
   },
   "outputs": [],
   "source": [
    "from sklearn.datasets import load_iris"
   ]
  },
  {
   "cell_type": "code",
   "execution_count": 3,
   "metadata": {
    "slideshow": {
     "slide_type": "fragment"
    }
   },
   "outputs": [
    {
     "data": {
      "text/plain": [
       "array([[5.1, 3.5, 1.4, 0.2],\n",
       "       [4.9, 3. , 1.4, 0.2],\n",
       "       [4.7, 3.2, 1.3, 0.2],\n",
       "       [4.6, 3.1, 1.5, 0.2],\n",
       "       [5. , 3.6, 1.4, 0.2],\n",
       "       [5.4, 3.9, 1.7, 0.4],\n",
       "       [4.6, 3.4, 1.4, 0.3],\n",
       "       [5. , 3.4, 1.5, 0.2],\n",
       "       [4.4, 2.9, 1.4, 0.2],\n",
       "       [4.9, 3.1, 1.5, 0.1],\n",
       "       [5.4, 3.7, 1.5, 0.2],\n",
       "       [4.8, 3.4, 1.6, 0.2],\n",
       "       [4.8, 3. , 1.4, 0.1],\n",
       "       [4.3, 3. , 1.1, 0.1],\n",
       "       [5.8, 4. , 1.2, 0.2],\n",
       "       [5.7, 4.4, 1.5, 0.4],\n",
       "       [5.4, 3.9, 1.3, 0.4],\n",
       "       [5.1, 3.5, 1.4, 0.3],\n",
       "       [5.7, 3.8, 1.7, 0.3],\n",
       "       [5.1, 3.8, 1.5, 0.3],\n",
       "       [5.4, 3.4, 1.7, 0.2],\n",
       "       [5.1, 3.7, 1.5, 0.4],\n",
       "       [4.6, 3.6, 1. , 0.2],\n",
       "       [5.1, 3.3, 1.7, 0.5],\n",
       "       [4.8, 3.4, 1.9, 0.2],\n",
       "       [5. , 3. , 1.6, 0.2],\n",
       "       [5. , 3.4, 1.6, 0.4],\n",
       "       [5.2, 3.5, 1.5, 0.2],\n",
       "       [5.2, 3.4, 1.4, 0.2],\n",
       "       [4.7, 3.2, 1.6, 0.2],\n",
       "       [4.8, 3.1, 1.6, 0.2],\n",
       "       [5.4, 3.4, 1.5, 0.4],\n",
       "       [5.2, 4.1, 1.5, 0.1],\n",
       "       [5.5, 4.2, 1.4, 0.2],\n",
       "       [4.9, 3.1, 1.5, 0.2],\n",
       "       [5. , 3.2, 1.2, 0.2],\n",
       "       [5.5, 3.5, 1.3, 0.2],\n",
       "       [4.9, 3.6, 1.4, 0.1],\n",
       "       [4.4, 3. , 1.3, 0.2],\n",
       "       [5.1, 3.4, 1.5, 0.2],\n",
       "       [5. , 3.5, 1.3, 0.3],\n",
       "       [4.5, 2.3, 1.3, 0.3],\n",
       "       [4.4, 3.2, 1.3, 0.2],\n",
       "       [5. , 3.5, 1.6, 0.6],\n",
       "       [5.1, 3.8, 1.9, 0.4],\n",
       "       [4.8, 3. , 1.4, 0.3],\n",
       "       [5.1, 3.8, 1.6, 0.2],\n",
       "       [4.6, 3.2, 1.4, 0.2],\n",
       "       [5.3, 3.7, 1.5, 0.2],\n",
       "       [5. , 3.3, 1.4, 0.2],\n",
       "       [7. , 3.2, 4.7, 1.4],\n",
       "       [6.4, 3.2, 4.5, 1.5],\n",
       "       [6.9, 3.1, 4.9, 1.5],\n",
       "       [5.5, 2.3, 4. , 1.3],\n",
       "       [6.5, 2.8, 4.6, 1.5],\n",
       "       [5.7, 2.8, 4.5, 1.3],\n",
       "       [6.3, 3.3, 4.7, 1.6],\n",
       "       [4.9, 2.4, 3.3, 1. ],\n",
       "       [6.6, 2.9, 4.6, 1.3],\n",
       "       [5.2, 2.7, 3.9, 1.4],\n",
       "       [5. , 2. , 3.5, 1. ],\n",
       "       [5.9, 3. , 4.2, 1.5],\n",
       "       [6. , 2.2, 4. , 1. ],\n",
       "       [6.1, 2.9, 4.7, 1.4],\n",
       "       [5.6, 2.9, 3.6, 1.3],\n",
       "       [6.7, 3.1, 4.4, 1.4],\n",
       "       [5.6, 3. , 4.5, 1.5],\n",
       "       [5.8, 2.7, 4.1, 1. ],\n",
       "       [6.2, 2.2, 4.5, 1.5],\n",
       "       [5.6, 2.5, 3.9, 1.1],\n",
       "       [5.9, 3.2, 4.8, 1.8],\n",
       "       [6.1, 2.8, 4. , 1.3],\n",
       "       [6.3, 2.5, 4.9, 1.5],\n",
       "       [6.1, 2.8, 4.7, 1.2],\n",
       "       [6.4, 2.9, 4.3, 1.3],\n",
       "       [6.6, 3. , 4.4, 1.4],\n",
       "       [6.8, 2.8, 4.8, 1.4],\n",
       "       [6.7, 3. , 5. , 1.7],\n",
       "       [6. , 2.9, 4.5, 1.5],\n",
       "       [5.7, 2.6, 3.5, 1. ],\n",
       "       [5.5, 2.4, 3.8, 1.1],\n",
       "       [5.5, 2.4, 3.7, 1. ],\n",
       "       [5.8, 2.7, 3.9, 1.2],\n",
       "       [6. , 2.7, 5.1, 1.6],\n",
       "       [5.4, 3. , 4.5, 1.5],\n",
       "       [6. , 3.4, 4.5, 1.6],\n",
       "       [6.7, 3.1, 4.7, 1.5],\n",
       "       [6.3, 2.3, 4.4, 1.3],\n",
       "       [5.6, 3. , 4.1, 1.3],\n",
       "       [5.5, 2.5, 4. , 1.3],\n",
       "       [5.5, 2.6, 4.4, 1.2],\n",
       "       [6.1, 3. , 4.6, 1.4],\n",
       "       [5.8, 2.6, 4. , 1.2],\n",
       "       [5. , 2.3, 3.3, 1. ],\n",
       "       [5.6, 2.7, 4.2, 1.3],\n",
       "       [5.7, 3. , 4.2, 1.2],\n",
       "       [5.7, 2.9, 4.2, 1.3],\n",
       "       [6.2, 2.9, 4.3, 1.3],\n",
       "       [5.1, 2.5, 3. , 1.1],\n",
       "       [5.7, 2.8, 4.1, 1.3],\n",
       "       [6.3, 3.3, 6. , 2.5],\n",
       "       [5.8, 2.7, 5.1, 1.9],\n",
       "       [7.1, 3. , 5.9, 2.1],\n",
       "       [6.3, 2.9, 5.6, 1.8],\n",
       "       [6.5, 3. , 5.8, 2.2],\n",
       "       [7.6, 3. , 6.6, 2.1],\n",
       "       [4.9, 2.5, 4.5, 1.7],\n",
       "       [7.3, 2.9, 6.3, 1.8],\n",
       "       [6.7, 2.5, 5.8, 1.8],\n",
       "       [7.2, 3.6, 6.1, 2.5],\n",
       "       [6.5, 3.2, 5.1, 2. ],\n",
       "       [6.4, 2.7, 5.3, 1.9],\n",
       "       [6.8, 3. , 5.5, 2.1],\n",
       "       [5.7, 2.5, 5. , 2. ],\n",
       "       [5.8, 2.8, 5.1, 2.4],\n",
       "       [6.4, 3.2, 5.3, 2.3],\n",
       "       [6.5, 3. , 5.5, 1.8],\n",
       "       [7.7, 3.8, 6.7, 2.2],\n",
       "       [7.7, 2.6, 6.9, 2.3],\n",
       "       [6. , 2.2, 5. , 1.5],\n",
       "       [6.9, 3.2, 5.7, 2.3],\n",
       "       [5.6, 2.8, 4.9, 2. ],\n",
       "       [7.7, 2.8, 6.7, 2. ],\n",
       "       [6.3, 2.7, 4.9, 1.8],\n",
       "       [6.7, 3.3, 5.7, 2.1],\n",
       "       [7.2, 3.2, 6. , 1.8],\n",
       "       [6.2, 2.8, 4.8, 1.8],\n",
       "       [6.1, 3. , 4.9, 1.8],\n",
       "       [6.4, 2.8, 5.6, 2.1],\n",
       "       [7.2, 3. , 5.8, 1.6],\n",
       "       [7.4, 2.8, 6.1, 1.9],\n",
       "       [7.9, 3.8, 6.4, 2. ],\n",
       "       [6.4, 2.8, 5.6, 2.2],\n",
       "       [6.3, 2.8, 5.1, 1.5],\n",
       "       [6.1, 2.6, 5.6, 1.4],\n",
       "       [7.7, 3. , 6.1, 2.3],\n",
       "       [6.3, 3.4, 5.6, 2.4],\n",
       "       [6.4, 3.1, 5.5, 1.8],\n",
       "       [6. , 3. , 4.8, 1.8],\n",
       "       [6.9, 3.1, 5.4, 2.1],\n",
       "       [6.7, 3.1, 5.6, 2.4],\n",
       "       [6.9, 3.1, 5.1, 2.3],\n",
       "       [5.8, 2.7, 5.1, 1.9],\n",
       "       [6.8, 3.2, 5.9, 2.3],\n",
       "       [6.7, 3.3, 5.7, 2.5],\n",
       "       [6.7, 3. , 5.2, 2.3],\n",
       "       [6.3, 2.5, 5. , 1.9],\n",
       "       [6.5, 3. , 5.2, 2. ],\n",
       "       [6.2, 3.4, 5.4, 2.3],\n",
       "       [5.9, 3. , 5.1, 1.8]])"
      ]
     },
     "execution_count": 3,
     "metadata": {},
     "output_type": "execute_result"
    }
   ],
   "source": [
    "X = load_iris().data\n",
    "X"
   ]
  },
  {
   "cell_type": "code",
   "execution_count": 4,
   "metadata": {
    "slideshow": {
     "slide_type": "fragment"
    }
   },
   "outputs": [
    {
     "data": {
      "text/plain": [
       "array([0, 0, 0, 0, 0, 0, 0, 0, 0, 0, 0, 0, 0, 0, 0, 0, 0, 0, 0, 0, 0, 0,\n",
       "       0, 0, 0, 0, 0, 0, 0, 0, 0, 0, 0, 0, 0, 0, 0, 0, 0, 0, 0, 0, 0, 0,\n",
       "       0, 0, 0, 0, 0, 0, 1, 1, 1, 1, 1, 1, 1, 1, 1, 1, 1, 1, 1, 1, 1, 1,\n",
       "       1, 1, 1, 1, 1, 1, 1, 1, 1, 1, 1, 1, 1, 1, 1, 1, 1, 1, 1, 1, 1, 1,\n",
       "       1, 1, 1, 1, 1, 1, 1, 1, 1, 1, 1, 1, 2, 2, 2, 2, 2, 2, 2, 2, 2, 2,\n",
       "       2, 2, 2, 2, 2, 2, 2, 2, 2, 2, 2, 2, 2, 2, 2, 2, 2, 2, 2, 2, 2, 2,\n",
       "       2, 2, 2, 2, 2, 2, 2, 2, 2, 2, 2, 2, 2, 2, 2, 2, 2, 2])"
      ]
     },
     "execution_count": 4,
     "metadata": {},
     "output_type": "execute_result"
    }
   ],
   "source": [
    "y = load_iris().target\n",
    "y"
   ]
  },
  {
   "cell_type": "code",
   "execution_count": 5,
   "metadata": {},
   "outputs": [
    {
     "data": {
      "text/plain": [
       "array(['setosa', 'versicolor', 'virginica'], dtype='<U10')"
      ]
     },
     "execution_count": 5,
     "metadata": {},
     "output_type": "execute_result"
    }
   ],
   "source": [
    "load_iris().target_names"
   ]
  },
  {
   "cell_type": "code",
   "execution_count": 6,
   "metadata": {
    "slideshow": {
     "slide_type": "subslide"
    }
   },
   "outputs": [
    {
     "data": {
      "text/plain": [
       "[array([[5. , 3.2, 1.2, 0.2],\n",
       "        [5.7, 2.6, 3.5, 1. ],\n",
       "        [6.3, 2.9, 5.6, 1.8],\n",
       "        [5.4, 3.9, 1.7, 0.4],\n",
       "        [4.8, 3.4, 1.6, 0.2],\n",
       "        [7.2, 3. , 5.8, 1.6],\n",
       "        [4.9, 3.6, 1.4, 0.1],\n",
       "        [5. , 3.5, 1.6, 0.6],\n",
       "        [6.2, 2.9, 4.3, 1.3],\n",
       "        [5.5, 2.5, 4. , 1.3],\n",
       "        [4.8, 3. , 1.4, 0.1],\n",
       "        [6.4, 2.7, 5.3, 1.9],\n",
       "        [6.2, 2.2, 4.5, 1.5],\n",
       "        [6.7, 3.3, 5.7, 2.1],\n",
       "        [6.5, 3.2, 5.1, 2. ],\n",
       "        [6.1, 2.8, 4.7, 1.2],\n",
       "        [6.7, 3.1, 4.4, 1.4],\n",
       "        [4.3, 3. , 1.1, 0.1],\n",
       "        [5.5, 3.5, 1.3, 0.2],\n",
       "        [6.2, 3.4, 5.4, 2.3],\n",
       "        [6.5, 3. , 5.2, 2. ],\n",
       "        [5.9, 3.2, 4.8, 1.8],\n",
       "        [6. , 2.7, 5.1, 1.6],\n",
       "        [5.6, 3. , 4.1, 1.3],\n",
       "        [5.1, 3.8, 1.5, 0.3],\n",
       "        [5.1, 3.8, 1.6, 0.2],\n",
       "        [4.6, 3.4, 1.4, 0.3],\n",
       "        [6.7, 3.1, 4.7, 1.5],\n",
       "        [5.7, 3. , 4.2, 1.2],\n",
       "        [6.4, 3.2, 5.3, 2.3],\n",
       "        [6.1, 2.9, 4.7, 1.4],\n",
       "        [5. , 3.6, 1.4, 0.2],\n",
       "        [5.7, 2.9, 4.2, 1.3],\n",
       "        [4.9, 3. , 1.4, 0.2],\n",
       "        [5.7, 2.8, 4.5, 1.3],\n",
       "        [6.9, 3.1, 5.1, 2.3],\n",
       "        [5.4, 3.7, 1.5, 0.2],\n",
       "        [5.2, 2.7, 3.9, 1.4],\n",
       "        [5.2, 3.5, 1.5, 0.2],\n",
       "        [5.8, 2.6, 4. , 1.2],\n",
       "        [4.9, 3.1, 1.5, 0.1],\n",
       "        [6.7, 3.3, 5.7, 2.5],\n",
       "        [5.5, 2.4, 3.7, 1. ],\n",
       "        [6. , 2.2, 4. , 1. ],\n",
       "        [5.7, 2.8, 4.1, 1.3],\n",
       "        [4.6, 3.1, 1.5, 0.2],\n",
       "        [4.6, 3.6, 1. , 0.2],\n",
       "        [6.5, 3. , 5.8, 2.2],\n",
       "        [7.1, 3. , 5.9, 2.1],\n",
       "        [5. , 3.4, 1.5, 0.2],\n",
       "        [6. , 2.2, 5. , 1.5],\n",
       "        [4.9, 2.4, 3.3, 1. ],\n",
       "        [6.4, 3.2, 4.5, 1.5],\n",
       "        [5.3, 3.7, 1.5, 0.2],\n",
       "        [5. , 2.3, 3.3, 1. ],\n",
       "        [6.6, 3. , 4.4, 1.4],\n",
       "        [5.1, 2.5, 3. , 1.1],\n",
       "        [5.7, 3.8, 1.7, 0.3],\n",
       "        [5.6, 2.9, 3.6, 1.3],\n",
       "        [5. , 3.4, 1.6, 0.4],\n",
       "        [7.7, 2.8, 6.7, 2. ],\n",
       "        [5.9, 3. , 4.2, 1.5],\n",
       "        [5.5, 2.4, 3.8, 1.1],\n",
       "        [5. , 3.3, 1.4, 0.2],\n",
       "        [6.1, 2.6, 5.6, 1.4],\n",
       "        [5.8, 4. , 1.2, 0.2],\n",
       "        [5.6, 2.8, 4.9, 2. ],\n",
       "        [5.6, 3. , 4.5, 1.5],\n",
       "        [7.4, 2.8, 6.1, 1.9],\n",
       "        [7.7, 2.6, 6.9, 2.3],\n",
       "        [6.4, 2.8, 5.6, 2.2],\n",
       "        [4.4, 3. , 1.3, 0.2],\n",
       "        [7.3, 2.9, 6.3, 1.8],\n",
       "        [5.5, 2.6, 4.4, 1.2],\n",
       "        [5.8, 2.7, 5.1, 1.9],\n",
       "        [7.2, 3.2, 6. , 1.8],\n",
       "        [6.7, 3. , 5.2, 2.3],\n",
       "        [6.3, 2.8, 5.1, 1.5],\n",
       "        [6. , 3.4, 4.5, 1.6],\n",
       "        [5.1, 3.7, 1.5, 0.4],\n",
       "        [5.7, 2.5, 5. , 2. ],\n",
       "        [6.4, 2.8, 5.6, 2.1],\n",
       "        [5.5, 2.3, 4. , 1.3],\n",
       "        [6.8, 3. , 5.5, 2.1],\n",
       "        [6.7, 2.5, 5.8, 1.8],\n",
       "        [5.2, 4.1, 1.5, 0.1],\n",
       "        [7. , 3.2, 4.7, 1.4],\n",
       "        [6.3, 2.3, 4.4, 1.3],\n",
       "        [5. , 3. , 1.6, 0.2],\n",
       "        [6.8, 3.2, 5.9, 2.3],\n",
       "        [4.6, 3.2, 1.4, 0.2],\n",
       "        [5.4, 3.4, 1.5, 0.4],\n",
       "        [4.8, 3.4, 1.9, 0.2],\n",
       "        [7.6, 3. , 6.6, 2.1],\n",
       "        [6.8, 2.8, 4.8, 1.4],\n",
       "        [7.7, 3.8, 6.7, 2.2],\n",
       "        [5.1, 3.5, 1.4, 0.2],\n",
       "        [5.8, 2.7, 5.1, 1.9],\n",
       "        [5.7, 4.4, 1.5, 0.4],\n",
       "        [5. , 3.5, 1.3, 0.3],\n",
       "        [5.1, 3.3, 1.7, 0.5],\n",
       "        [6.6, 2.9, 4.6, 1.3],\n",
       "        [5.8, 2.7, 4.1, 1. ],\n",
       "        [6.7, 3. , 5. , 1.7],\n",
       "        [6.1, 3. , 4.6, 1.4],\n",
       "        [5.4, 3.4, 1.7, 0.2],\n",
       "        [4.4, 3.2, 1.3, 0.2],\n",
       "        [6.3, 2.5, 5. , 1.9],\n",
       "        [6.5, 3. , 5.5, 1.8],\n",
       "        [6.7, 3.1, 5.6, 2.4],\n",
       "        [5.1, 3.4, 1.5, 0.2],\n",
       "        [4.5, 2.3, 1.3, 0.3]]),\n",
       " array([[4.7, 3.2, 1.6, 0.2],\n",
       "        [5.8, 2.8, 5.1, 2.4],\n",
       "        [4.4, 2.9, 1.4, 0.2],\n",
       "        [5.4, 3.9, 1.3, 0.4],\n",
       "        [4.9, 3.1, 1.5, 0.2],\n",
       "        [7.7, 3. , 6.1, 2.3],\n",
       "        [6.9, 3.1, 4.9, 1.5],\n",
       "        [6.3, 2.7, 4.9, 1.8],\n",
       "        [6.3, 2.5, 4.9, 1.5],\n",
       "        [5.9, 3. , 5.1, 1.8],\n",
       "        [6.3, 3.4, 5.6, 2.4],\n",
       "        [6.3, 3.3, 4.7, 1.6],\n",
       "        [5. , 2. , 3.5, 1. ],\n",
       "        [6.4, 3.1, 5.5, 1.8],\n",
       "        [6.9, 3.2, 5.7, 2.3],\n",
       "        [6.4, 2.9, 4.3, 1.3],\n",
       "        [5.4, 3. , 4.5, 1.5],\n",
       "        [6.9, 3.1, 5.4, 2.1],\n",
       "        [5.2, 3.4, 1.4, 0.2],\n",
       "        [4.7, 3.2, 1.3, 0.2],\n",
       "        [5.1, 3.8, 1.9, 0.4],\n",
       "        [5.6, 2.5, 3.9, 1.1],\n",
       "        [6.3, 3.3, 6. , 2.5],\n",
       "        [6.2, 2.8, 4.8, 1.8],\n",
       "        [4.8, 3.1, 1.6, 0.2],\n",
       "        [5.5, 4.2, 1.4, 0.2],\n",
       "        [6.1, 2.8, 4. , 1.3],\n",
       "        [5.1, 3.5, 1.4, 0.3],\n",
       "        [6.1, 3. , 4.9, 1.8],\n",
       "        [6. , 3. , 4.8, 1.8],\n",
       "        [5.6, 2.7, 4.2, 1.3],\n",
       "        [4.9, 2.5, 4.5, 1.7],\n",
       "        [6.5, 2.8, 4.6, 1.5],\n",
       "        [7.9, 3.8, 6.4, 2. ],\n",
       "        [6. , 2.9, 4.5, 1.5],\n",
       "        [7.2, 3.6, 6.1, 2.5],\n",
       "        [5.8, 2.7, 3.9, 1.2],\n",
       "        [4.8, 3. , 1.4, 0.3]]),\n",
       " array([0, 1, 2, 0, 0, 2, 0, 0, 1, 1, 0, 2, 1, 2, 2, 1, 1, 0, 0, 2, 2, 1,\n",
       "        1, 1, 0, 0, 0, 1, 1, 2, 1, 0, 1, 0, 1, 2, 0, 1, 0, 1, 0, 2, 1, 1,\n",
       "        1, 0, 0, 2, 2, 0, 2, 1, 1, 0, 1, 1, 1, 0, 1, 0, 2, 1, 1, 0, 2, 0,\n",
       "        2, 1, 2, 2, 2, 0, 2, 1, 2, 2, 2, 2, 1, 0, 2, 2, 1, 2, 2, 0, 1, 1,\n",
       "        0, 2, 0, 0, 0, 2, 1, 2, 0, 2, 0, 0, 0, 1, 1, 1, 1, 0, 0, 2, 2, 2,\n",
       "        0, 0]),\n",
       " array([0, 2, 0, 0, 0, 2, 1, 2, 1, 2, 2, 1, 1, 2, 2, 1, 1, 2, 0, 0, 0, 1,\n",
       "        2, 2, 0, 0, 1, 0, 2, 2, 1, 2, 1, 2, 1, 2, 1, 0])]"
      ]
     },
     "execution_count": 6,
     "metadata": {},
     "output_type": "execute_result"
    }
   ],
   "source": [
    "from sklearn.model_selection import train_test_split\n",
    "train_test_split(X, y)"
   ]
  },
  {
   "cell_type": "code",
   "execution_count": 7,
   "metadata": {
    "slideshow": {
     "slide_type": "fragment"
    }
   },
   "outputs": [
    {
     "name": "stdout",
     "output_type": "stream",
     "text": [
      "[2 2 1 2 0 1 1 2 1 0 0 1 2 0 2 0 0 0 2 1 1 1 0 2 2 0 0 2 2 2 0 2 0 2 0 2 1\n",
      " 1 1 0 2 1 1 1 0 0 1 0 1 2 0 1 2 1 2 0 1 1 2 0 0 2 0 2 2 2 2 2 1 0 1 0 1 1\n",
      " 0 1 0 0 1 0 1 0 1 0 1 0 0 0 2 1 0 1 0 0 2 0 2 1 2 2 1 2 2 1 2 2 2 2 1 2 2\n",
      " 0]\n"
     ]
    }
   ],
   "source": [
    "# split the data into training data (2/3) for x and for y and test data (1/3) for x and for y\n",
    "# training data is for the model to learn, test data to see if the model learned correctly\n",
    "x_train, x_test, y_train, y_test = train_test_split(X, y)\n",
    "print(y_train)"
   ]
  },
  {
   "cell_type": "code",
   "execution_count": 8,
   "metadata": {
    "slideshow": {
     "slide_type": "subslide"
    }
   },
   "outputs": [
    {
     "data": {
      "text/html": [
       "<style>#sk-container-id-1 {color: black;background-color: white;}#sk-container-id-1 pre{padding: 0;}#sk-container-id-1 div.sk-toggleable {background-color: white;}#sk-container-id-1 label.sk-toggleable__label {cursor: pointer;display: block;width: 100%;margin-bottom: 0;padding: 0.3em;box-sizing: border-box;text-align: center;}#sk-container-id-1 label.sk-toggleable__label-arrow:before {content: \"▸\";float: left;margin-right: 0.25em;color: #696969;}#sk-container-id-1 label.sk-toggleable__label-arrow:hover:before {color: black;}#sk-container-id-1 div.sk-estimator:hover label.sk-toggleable__label-arrow:before {color: black;}#sk-container-id-1 div.sk-toggleable__content {max-height: 0;max-width: 0;overflow: hidden;text-align: left;background-color: #f0f8ff;}#sk-container-id-1 div.sk-toggleable__content pre {margin: 0.2em;color: black;border-radius: 0.25em;background-color: #f0f8ff;}#sk-container-id-1 input.sk-toggleable__control:checked~div.sk-toggleable__content {max-height: 200px;max-width: 100%;overflow: auto;}#sk-container-id-1 input.sk-toggleable__control:checked~label.sk-toggleable__label-arrow:before {content: \"▾\";}#sk-container-id-1 div.sk-estimator input.sk-toggleable__control:checked~label.sk-toggleable__label {background-color: #d4ebff;}#sk-container-id-1 div.sk-label input.sk-toggleable__control:checked~label.sk-toggleable__label {background-color: #d4ebff;}#sk-container-id-1 input.sk-hidden--visually {border: 0;clip: rect(1px 1px 1px 1px);clip: rect(1px, 1px, 1px, 1px);height: 1px;margin: -1px;overflow: hidden;padding: 0;position: absolute;width: 1px;}#sk-container-id-1 div.sk-estimator {font-family: monospace;background-color: #f0f8ff;border: 1px dotted black;border-radius: 0.25em;box-sizing: border-box;margin-bottom: 0.5em;}#sk-container-id-1 div.sk-estimator:hover {background-color: #d4ebff;}#sk-container-id-1 div.sk-parallel-item::after {content: \"\";width: 100%;border-bottom: 1px solid gray;flex-grow: 1;}#sk-container-id-1 div.sk-label:hover label.sk-toggleable__label {background-color: #d4ebff;}#sk-container-id-1 div.sk-serial::before {content: \"\";position: absolute;border-left: 1px solid gray;box-sizing: border-box;top: 0;bottom: 0;left: 50%;z-index: 0;}#sk-container-id-1 div.sk-serial {display: flex;flex-direction: column;align-items: center;background-color: white;padding-right: 0.2em;padding-left: 0.2em;position: relative;}#sk-container-id-1 div.sk-item {position: relative;z-index: 1;}#sk-container-id-1 div.sk-parallel {display: flex;align-items: stretch;justify-content: center;background-color: white;position: relative;}#sk-container-id-1 div.sk-item::before, #sk-container-id-1 div.sk-parallel-item::before {content: \"\";position: absolute;border-left: 1px solid gray;box-sizing: border-box;top: 0;bottom: 0;left: 50%;z-index: -1;}#sk-container-id-1 div.sk-parallel-item {display: flex;flex-direction: column;z-index: 1;position: relative;background-color: white;}#sk-container-id-1 div.sk-parallel-item:first-child::after {align-self: flex-end;width: 50%;}#sk-container-id-1 div.sk-parallel-item:last-child::after {align-self: flex-start;width: 50%;}#sk-container-id-1 div.sk-parallel-item:only-child::after {width: 0;}#sk-container-id-1 div.sk-dashed-wrapped {border: 1px dashed gray;margin: 0 0.4em 0.5em 0.4em;box-sizing: border-box;padding-bottom: 0.4em;background-color: white;}#sk-container-id-1 div.sk-label label {font-family: monospace;font-weight: bold;display: inline-block;line-height: 1.2em;}#sk-container-id-1 div.sk-label-container {text-align: center;}#sk-container-id-1 div.sk-container {/* jupyter's `normalize.less` sets `[hidden] { display: none; }` but bootstrap.min.css set `[hidden] { display: none !important; }` so we also need the `!important` here to be able to override the default hidden behavior on the sphinx rendered scikit-learn.org. See: https://github.com/scikit-learn/scikit-learn/issues/21755 */display: inline-block !important;position: relative;}#sk-container-id-1 div.sk-text-repr-fallback {display: none;}</style><div id=\"sk-container-id-1\" class=\"sk-top-container\"><div class=\"sk-text-repr-fallback\"><pre>LinearRegression()</pre><b>In a Jupyter environment, please rerun this cell to show the HTML representation or trust the notebook. <br />On GitHub, the HTML representation is unable to render, please try loading this page with nbviewer.org.</b></div><div class=\"sk-container\" hidden><div class=\"sk-item\"><div class=\"sk-estimator sk-toggleable\"><input class=\"sk-toggleable__control sk-hidden--visually\" id=\"sk-estimator-id-1\" type=\"checkbox\" checked><label for=\"sk-estimator-id-1\" class=\"sk-toggleable__label sk-toggleable__label-arrow\">LinearRegression</label><div class=\"sk-toggleable__content\"><pre>LinearRegression()</pre></div></div></div></div></div>"
      ],
      "text/plain": [
       "LinearRegression()"
      ]
     },
     "execution_count": 8,
     "metadata": {},
     "output_type": "execute_result"
    }
   ],
   "source": [
    "# use the linear regression model\n",
    "from sklearn.linear_model import LinearRegression\n",
    "model = LinearRegression()\n",
    "model.fit(x_train, y_train)"
   ]
  },
  {
   "cell_type": "code",
   "execution_count": 9,
   "metadata": {
    "slideshow": {
     "slide_type": "fragment"
    }
   },
   "outputs": [
    {
     "data": {
      "text/plain": [
       "array([ 1.53138760e+00,  1.71527169e+00,  8.78267777e-01,  1.90372309e+00,\n",
       "       -2.27173296e-02,  1.18655966e+00,  1.07112930e+00,  1.94892224e+00,\n",
       "        1.41311683e+00,  1.91060731e-01,  3.29439713e-02,  1.16749412e+00,\n",
       "        1.84384744e+00,  8.67675924e-02,  1.81138102e+00, -2.19507525e-03,\n",
       "       -5.20001390e-02, -6.10974808e-02,  1.78695321e+00,  1.29146396e+00,\n",
       "        1.33168820e+00,  1.19255839e+00, -1.24160936e-01,  1.99787483e+00,\n",
       "        2.26519573e+00, -5.41213115e-02, -4.94873938e-02,  1.98529421e+00,\n",
       "        1.88287737e+00,  1.75361964e+00, -7.37447127e-02,  2.03134669e+00,\n",
       "       -9.03936399e-03,  1.58384641e+00, -8.53015058e-02,  1.84459690e+00,\n",
       "        1.31884518e+00,  1.21703950e+00,  1.05518767e+00, -7.76755637e-02,\n",
       "        2.12001389e+00,  1.15911453e+00,  1.21436046e+00,  9.31441625e-01,\n",
       "       -5.23622184e-02,  9.82123607e-04,  1.30589558e+00, -1.21897271e-01,\n",
       "        1.16908272e+00,  1.49074379e+00, -2.60370209e-02,  1.27055433e+00,\n",
       "        1.65477428e+00,  1.04614362e+00,  1.61535007e+00, -5.96875297e-03,\n",
       "        1.01920307e+00,  1.13865618e+00,  1.98373091e+00, -4.69746485e-02,\n",
       "        2.23113240e-02,  1.61946474e+00, -8.58340789e-02,  1.59695960e+00,\n",
       "        1.91064596e+00,  1.75108581e+00,  1.99975383e+00,  1.70611045e+00,\n",
       "        1.61407717e+00,  3.73288087e-02,  1.06359527e+00, -9.66625125e-02,\n",
       "        9.79928262e-01,  1.20029092e+00, -1.85625180e-01,  1.10309115e+00,\n",
       "        6.68074045e-02,  1.40474014e-01,  1.45130120e+00,  2.29224837e-02,\n",
       "        1.29090609e+00,  9.04873172e-03,  1.50222199e+00, -1.60952488e-01,\n",
       "        1.36041314e+00, -1.36886755e-01, -7.67900310e-02, -9.40964734e-02,\n",
       "        1.78695321e+00,  1.20665593e+00,  9.33774817e-02,  1.30522051e+00,\n",
       "        3.18879449e-02, -5.54861233e-02,  1.78965754e+00, -8.37662003e-02,\n",
       "        2.04553614e+00,  1.20233080e+00,  1.83429191e+00,  2.02788871e+00,\n",
       "        1.44608141e+00,  1.75189275e+00,  1.60656842e+00,  1.19278218e+00,\n",
       "        1.83583413e+00,  1.60059499e+00,  1.79667232e+00,  1.94051464e+00,\n",
       "        1.42087466e+00,  2.09483243e+00,  2.06749759e+00, -1.26111615e-01])"
      ]
     },
     "execution_count": 9,
     "metadata": {},
     "output_type": "execute_result"
    }
   ],
   "source": [
    "targets = model.predict(x_train)\n",
    "targets"
   ]
  },
  {
   "cell_type": "code",
   "execution_count": 10,
   "metadata": {
    "slideshow": {
     "slide_type": "subslide"
    }
   },
   "outputs": [
    {
     "data": {
      "text/plain": [
       "0.9317399520006568"
      ]
     },
     "execution_count": 10,
     "metadata": {},
     "output_type": "execute_result"
    }
   ],
   "source": [
    "model.score(x_train, y_train)"
   ]
  },
  {
   "cell_type": "code",
   "execution_count": 11,
   "metadata": {
    "slideshow": {
     "slide_type": "subslide"
    }
   },
   "outputs": [
    {
     "data": {
      "text/plain": [
       "0.9215267042234505"
      ]
     },
     "execution_count": 11,
     "metadata": {},
     "output_type": "execute_result"
    }
   ],
   "source": [
    "model.score(x_test, y_test)"
   ]
  },
  {
   "cell_type": "markdown",
   "metadata": {
    "slideshow": {
     "slide_type": "subslide"
    }
   },
   "source": [
    "## Evaluating a model\n",
    "\n",
    "* Models are supposed to be as accurate as possible\n",
    "  * `model.score`\n",
    "  * Read the [documentation](https://scikit-learn.org/stable/modules/generated/sklearn.linear_model.LinearRegression.html#sklearn.linear_model.LinearRegression.score)"
   ]
  },
  {
   "cell_type": "markdown",
   "metadata": {
    "slideshow": {
     "slide_type": "subslide"
    }
   },
   "source": [
    "* But not *too* accurate\n",
    "  * Overfitting"
   ]
  },
  {
   "cell_type": "markdown",
   "metadata": {
    "slideshow": {
     "slide_type": "subslide"
    }
   },
   "source": [
    "## The overfitting curve\n",
    "[Overfitting](https://en.wikipedia.org/wiki/Overfitting)  \n",
    "\n",
    "Curve shows number of training cycles on the x-axis and on y-axis how blue and red (training error, validation error) enlarges at a point. This point is where validation error has its global minimum. That is when we need to **stop** training the model with the training data.\n",
    "\n",
    "<img src=\"https://upload.wikimedia.org/wikipedia/commons/thumb/1/1f/Overfitting_svg.svg/1280px-Overfitting_svg.svg.png\" style=\"width:40%\"/>"
   ]
  },
  {
   "cell_type": "markdown",
   "metadata": {
    "slideshow": {
     "slide_type": "subslide"
    }
   },
   "source": [
    "## Exercise\n",
    "\n",
    "* Import `science.csv` to a pandas DataFrame\n",
    "* Split the input (X) and target (y) using `train_test_split`\n",
    "* Train the model on the training data\n",
    "* Score the model based on the testing data"
   ]
  },
  {
   "cell_type": "markdown",
   "metadata": {
    "slideshow": {
     "slide_type": "subslide"
    }
   },
   "source": [
    "## Self study: Other sklearn metrics\n",
    "\n",
    "The model uses *default* metrics. But there are numerous others.\n",
    "\n",
    "https://sklearn.org/modules/classes.html#module-sklearn.metrics\n",
    "\n",
    "Metrics usually depends on the type of your model (classification, regression, etc.)\n",
    "\n",
    "Read this article [here](https://towardsdatascience.com/understanding-data-science-classification-metrics-in-scikit-learn-in-python-3bc336865019)"
   ]
  },
  {
   "cell_type": "code",
   "execution_count": 12,
   "metadata": {
    "slideshow": {
     "slide_type": "subslide"
    }
   },
   "outputs": [
    {
     "data": {
      "text/plain": [
       "dict_keys(['explained_variance', 'r2', 'max_error', 'matthews_corrcoef', 'neg_median_absolute_error', 'neg_mean_absolute_error', 'neg_mean_absolute_percentage_error', 'neg_mean_squared_error', 'neg_mean_squared_log_error', 'neg_root_mean_squared_error', 'neg_mean_poisson_deviance', 'neg_mean_gamma_deviance', 'accuracy', 'top_k_accuracy', 'roc_auc', 'roc_auc_ovr', 'roc_auc_ovo', 'roc_auc_ovr_weighted', 'roc_auc_ovo_weighted', 'balanced_accuracy', 'average_precision', 'neg_log_loss', 'neg_brier_score', 'adjusted_rand_score', 'rand_score', 'homogeneity_score', 'completeness_score', 'v_measure_score', 'mutual_info_score', 'adjusted_mutual_info_score', 'normalized_mutual_info_score', 'fowlkes_mallows_score', 'precision', 'precision_macro', 'precision_micro', 'precision_samples', 'precision_weighted', 'recall', 'recall_macro', 'recall_micro', 'recall_samples', 'recall_weighted', 'f1', 'f1_macro', 'f1_micro', 'f1_samples', 'f1_weighted', 'jaccard', 'jaccard_macro', 'jaccard_micro', 'jaccard_samples', 'jaccard_weighted'])"
      ]
     },
     "execution_count": 12,
     "metadata": {},
     "output_type": "execute_result"
    }
   ],
   "source": [
    "import sklearn\n",
    "sklearn.metrics.SCORERS.keys()"
   ]
  }
 ],
 "metadata": {
  "celltoolbar": "Slideshow",
  "kernelspec": {
   "display_name": "Python 3.10.6 64-bit",
   "language": "python",
   "name": "python3"
  },
  "language_info": {
   "codemirror_mode": {
    "name": "ipython",
    "version": 3
   },
   "file_extension": ".py",
   "mimetype": "text/x-python",
   "name": "python",
   "nbconvert_exporter": "python",
   "pygments_lexer": "ipython3",
   "version": "3.10.6"
  },
  "varInspector": {
   "cols": {
    "lenName": 16,
    "lenType": 16,
    "lenVar": 40
   },
   "kernels_config": {
    "python": {
     "delete_cmd_postfix": "",
     "delete_cmd_prefix": "del ",
     "library": "var_list.py",
     "varRefreshCmd": "print(var_dic_list())"
    },
    "r": {
     "delete_cmd_postfix": ") ",
     "delete_cmd_prefix": "rm(",
     "library": "var_list.r",
     "varRefreshCmd": "cat(var_dic_list()) "
    }
   },
   "types_to_exclude": [
    "module",
    "function",
    "builtin_function_or_method",
    "instance",
    "_Feature"
   ],
   "window_display": false
  },
  "vscode": {
   "interpreter": {
    "hash": "b0fa6594d8f4cbf19f97940f81e996739fb7646882a419484c72d19e05852a7e"
   }
  }
 },
 "nbformat": 4,
 "nbformat_minor": 2
}
