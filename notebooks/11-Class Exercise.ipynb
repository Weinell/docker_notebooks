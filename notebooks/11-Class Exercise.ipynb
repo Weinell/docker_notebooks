{
 "cells": [
  {
   "cell_type": "markdown",
   "id": "97962492",
   "metadata": {},
   "source": [
    "# OpenCV exercise:\n",
    "https://www.codeproject.com/Articles/5270238/Finding-Training-Data-for-OpenCV-and-ImageAI-Objec\n"
   ]
  },
  {
   "cell_type": "code",
   "execution_count": null,
   "id": "7bef5a74",
   "metadata": {},
   "outputs": [],
   "source": []
  }
 ],
 "metadata": {
  "kernelspec": {
   "display_name": "Python 3 (ipykernel)",
   "language": "python",
   "name": "python3"
  },
  "language_info": {
   "codemirror_mode": {
    "name": "ipython",
    "version": 3
   },
   "file_extension": ".py",
   "mimetype": "text/x-python",
   "name": "python",
   "nbconvert_exporter": "python",
   "pygments_lexer": "ipython3",
   "version": "3.10.6"
  }
 },
 "nbformat": 4,
 "nbformat_minor": 5
}
